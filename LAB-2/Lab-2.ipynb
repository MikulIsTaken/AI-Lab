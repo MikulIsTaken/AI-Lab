{
 "cells": [
  {
   "cell_type": "code",
   "execution_count": 1,
   "id": "initial_id",
   "metadata": {
    "ExecuteTime": {
     "end_time": "2024-12-13T04:38:49.254690Z",
     "start_time": "2024-12-13T04:38:33.502386Z"
    }
   },
   "outputs": [
    {
     "name": "stdin",
     "output_type": "stream",
     "text": [
      "Enter the first number:  23\n",
      "Enter the second number:  77\n"
     ]
    },
    {
     "name": "stdout",
     "output_type": "stream",
     "text": [
      "The result of addition is: 100.0\n"
     ]
    }
   ],
   "source": [
    "def add_numbers():\n",
    "    num1=input(\"Enter the first number: \")\n",
    "    num2=input(\"Enter the second number: \")\n",
    "    try:\n",
    "        result=float(num1)+float(num2)\n",
    "        print(f\"The result of addition is: {result}\")\n",
    "    except ValueError:\n",
    "        print(\"Invalid input. Please enter valid numbers.\")\n",
    "add_numbers()"
   ]
  },
  {
   "cell_type": "code",
   "execution_count": 2,
   "id": "ce1422316e33e5fa",
   "metadata": {},
   "outputs": [
    {
     "name": "stdin",
     "output_type": "stream",
     "text": [
      "Enter the length of the rectangle:  12\n",
      "Enter the width of the rectangle:  6\n"
     ]
    },
    {
     "name": "stdout",
     "output_type": "stream",
     "text": [
      "Area of the rectangle: 72.0\n",
      "Area of the square: 9.0\n"
     ]
    }
   ],
   "source": [
    "def rectangle_vs_square():\n",
    "    try:\n",
    "        length=float(input(\"Enter the length of the rectangle: \"))\n",
    "        width=float(input(\"Enter the width of the rectangle: \"))\n",
    "        rectangle_area=length*width\n",
    "        square_side=width/2\n",
    "        square_area=square_side**2\n",
    "        print(f\"Area of the rectangle: {rectangle_area}\")\n",
    "        print(f\"Area of the square: {square_area}\")\n",
    "    except ValueError:\n",
    "        print(\"Invalid input. Please enter valid numbers.\")\n",
    "rectangle_vs_square()"
   ]
  },
  {
   "cell_type": "code",
   "execution_count": 3,
   "id": "85659499bdc5232e",
   "metadata": {},
   "outputs": [
    {
     "name": "stdin",
     "output_type": "stream",
     "text": [
      "Enter an integer:  18\n"
     ]
    },
    {
     "name": "stdout",
     "output_type": "stream",
     "text": [
      "18 is even.\n"
     ]
    }
   ],
   "source": [
    "def check_even_odd():\n",
    "    try:\n",
    "        num=int(input(\"Enter an integer: \"))\n",
    "        if num%2==0:\n",
    "            print(f\"{num} is even.\")\n",
    "        else:\n",
    "            print(f\"{num} is odd.\")\n",
    "    except ValueError:\n",
    "        print(\"Invalid input. Please enter an integer.\")\n",
    "check_even_odd()"
   ]
  },
  {
   "cell_type": "code",
   "execution_count": 4,
   "id": "b08d3e379fe06ccd",
   "metadata": {},
   "outputs": [
    {
     "name": "stdin",
     "output_type": "stream",
     "text": [
      "Enter a mathematical expression:  5*2+3\n"
     ]
    },
    {
     "name": "stdout",
     "output_type": "stream",
     "text": [
      "The result is: 13\n"
     ]
    }
   ],
   "source": [
    "def advanced_calculator():\n",
    "    expression=input(\"Enter a mathematical expression: \")\n",
    "    try:\n",
    "        result=eval(expression)\n",
    "        print(f\"The result is: {result}\")\n",
    "    except Exception as e:\n",
    "        print(f\"Error evaluating expression: {e}\")\n",
    "advanced_calculator()"
   ]
  },
  {
   "cell_type": "code",
   "execution_count": 5,
   "id": "64110744476756f2",
   "metadata": {},
   "outputs": [
    {
     "name": "stdin",
     "output_type": "stream",
     "text": [
      "Enter the number of terms:  13\n"
     ]
    },
    {
     "name": "stdout",
     "output_type": "stream",
     "text": [
      "Fibonacci series:\n",
      "0 1 1 2 3 5 8 13 21 34 55 89 144 \n"
     ]
    }
   ],
   "source": [
    "def fibonacci_series():\n",
    "    try:\n",
    "        terms=int(input(\"Enter the number of terms: \"))\n",
    "        a,b=0,1\n",
    "        count=0\n",
    "        print(\"Fibonacci series:\")\n",
    "        while count<terms:\n",
    "            print(a,end=\" \")\n",
    "            a,b=b,a+b\n",
    "            count+=1\n",
    "        print()\n",
    "    except ValueError:\n",
    "        print(\"Invalid input. Please enter an integer.\")\n",
    "fibonacci_series()"
   ]
  },
  {
   "cell_type": "code",
   "execution_count": 6,
   "id": "ad68bc52235859ac",
   "metadata": {},
   "outputs": [
    {
     "name": "stdin",
     "output_type": "stream",
     "text": [
      "Enter a number:  71\n"
     ]
    },
    {
     "name": "stdout",
     "output_type": "stream",
     "text": [
      "71 is a prime number.\n"
     ]
    }
   ],
   "source": [
    "def check_prime():\n",
    "    try:\n",
    "        num=int(input(\"Enter a number: \"))\n",
    "        if num<=1:\n",
    "            print(f\"{num} is not a prime number.\")\n",
    "        else:\n",
    "            is_prime=True\n",
    "            for i in range(2,int(num**0.5)+1):\n",
    "                if num%i==0:\n",
    "                    is_prime=False\n",
    "                    break\n",
    "            if is_prime:\n",
    "                print(f\"{num} is a prime number.\")\n",
    "            else:\n",
    "                print(f\"{num} is not a prime number.\")\n",
    "    except ValueError:\n",
    "        print(\"Invalid input. Please enter an integer.\")\n",
    "check_prime()"
   ]
  }
 ],
 "metadata": {
  "kernelspec": {
   "display_name": "Python 3 (ipykernel)",
   "language": "python",
   "name": "python3"
  },
  "language_info": {
   "codemirror_mode": {
    "name": "ipython",
    "version": 3
   },
   "file_extension": ".py",
   "mimetype": "text/x-python",
   "name": "python",
   "nbconvert_exporter": "python",
   "pygments_lexer": "ipython3",
   "version": "3.13.1"
  }
 },
 "nbformat": 4,
 "nbformat_minor": 5
}
