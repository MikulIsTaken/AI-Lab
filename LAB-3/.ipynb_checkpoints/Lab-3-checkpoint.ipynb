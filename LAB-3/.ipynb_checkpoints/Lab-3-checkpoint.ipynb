{
 "cells": [
  {
   "cell_type": "code",
   "execution_count": 1,
   "id": "397c9c46-557b-401b-81b6-28af64f1773c",
   "metadata": {},
   "outputs": [
    {
     "name": "stdin",
     "output_type": "stream",
     "text": [
      "Enter your password:  mg@05#CS\n"
     ]
    },
    {
     "name": "stdout",
     "output_type": "stream",
     "text": [
      "Password is valid.\n"
     ]
    }
   ],
   "source": [
    "def validate_password(password):\n",
    "    if len(password) < 8:\n",
    "        return False, \"Password must be at least 8 characters long.\"\n",
    "    if not any(char.isupper() for char in password):\n",
    "        return False, \"Password must contain at least one uppercase letter.\"\n",
    "    if not any(char.islower() for char in password):\n",
    "        return False, \"Password must contain at least one lowercase letter.\"\n",
    "    if not any(char.isdigit() for char in password):\n",
    "        return False, \"Password must contain at least one digit.\"\n",
    "    if not any(char in \"!@#$%^&*(),.?\\\":{}|<>\" for char in password):\n",
    "        return False, \"Password must contain at least one special character.\"\n",
    "    return True, \"Password is valid.\"\n",
    "password = input(\"Enter your password: \")\n",
    "valid, message = validate_password(password)\n",
    "print(message)"
   ]
  },
  {
   "cell_type": "code",
   "execution_count": 4,
   "id": "d9602f47-2fbe-47f1-8a23-6fa3b442a476",
   "metadata": {},
   "outputs": [
    {
     "name": "stdin",
     "output_type": "stream",
     "text": [
      "Enter the shape (triangle, square, rectangle, circle):  rectangle\n",
      "Enter the length of the rectangle:  6\n",
      "Enter the width of the rectangle:  3\n"
     ]
    },
    {
     "name": "stdout",
     "output_type": "stream",
     "text": [
      "Area: 18.0\n"
     ]
    }
   ],
   "source": [
    "def calculate_area(shape, *dimensions):\n",
    "    if shape == \"triangle\":\n",
    "        base, height = dimensions\n",
    "        return 0.5 * base * height\n",
    "    elif shape == \"square\":\n",
    "        side, = dimensions\n",
    "        return side * side\n",
    "    elif shape == \"rectangle\":\n",
    "        length, width = dimensions\n",
    "        return length * width\n",
    "    elif shape == \"circle\":\n",
    "        radius, = dimensions\n",
    "        return 3.14159 * radius * radius\n",
    "    else:\n",
    "        return \"Invalid shape.\"\n",
    "shape = input(\"Enter the shape (triangle, square, rectangle, circle): \").lower()\n",
    "if shape == \"triangle\":\n",
    "    base = float(input(\"Enter the base of the triangle: \"))\n",
    "    height = float(input(\"Enter the height of the triangle: \"))\n",
    "    print(\"Area:\", calculate_area(shape, base, height))\n",
    "elif shape == \"square\":\n",
    "    side = float(input(\"Enter the side of the square: \"))\n",
    "    print(\"Area:\", calculate_area(shape, side))\n",
    "elif shape == \"rectangle\":\n",
    "    length = float(input(\"Enter the length of the rectangle: \"))\n",
    "    width = float(input(\"Enter the width of the rectangle: \"))\n",
    "    print(\"Area:\", calculate_area(shape, length, width))\n",
    "elif shape == \"circle\":\n",
    "    radius = float(input(\"Enter the radius of the circle: \"))\n",
    "    print(\"Area:\", calculate_area(shape, radius))\n",
    "else:\n",
    "    print(\"Invalid shape.\")"
   ]
  },
  {
   "cell_type": "code",
   "execution_count": 6,
   "id": "8323c6f0-e5e9-499e-8c1d-7a328ddd506e",
   "metadata": {},
   "outputs": [
    {
     "name": "stdin",
     "output_type": "stream",
     "text": [
      "Enter numbers separated by spaces:  3 5 2 7 8 5 6 0 9\n"
     ]
    },
    {
     "name": "stdout",
     "output_type": "stream",
     "text": [
      "Second largest element: 8\n"
     ]
    }
   ],
   "source": [
    "def second_largest(numbers):\n",
    "    unique_numbers = []\n",
    "    for num in numbers:\n",
    "        if num not in unique_numbers:\n",
    "            unique_numbers.append(num)\n",
    "    if len(unique_numbers) < 2:\n",
    "        return None\n",
    "    unique_numbers.sort()\n",
    "    return unique_numbers[-2]\n",
    "numbers = list(map(int, input(\"Enter numbers separated by spaces: \").split()))\n",
    "result = second_largest(numbers)\n",
    "if result is None:\n",
    "    print(\"There is no second largest element.\")\n",
    "else:\n",
    "    print(\"Second largest element:\", result)"
   ]
  },
  {
   "cell_type": "code",
   "execution_count": 7,
   "id": "1281b7a7-488b-4ab2-83e8-65cc7a1d9e98",
   "metadata": {},
   "outputs": [
    {
     "name": "stdin",
     "output_type": "stream",
     "text": [
      "Enter words separated by spaces:  cool everyone should be cool like mecool\n"
     ]
    },
    {
     "name": "stdout",
     "output_type": "stream",
     "text": [
      "Word frequency: {'cool': 2, 'everyone': 1, 'should': 1, 'be': 1, 'like': 1, 'mecool': 1}\n"
     ]
    }
   ],
   "source": [
    "def word_frequency(words):\n",
    "    frequency = {}\n",
    "    for word in words:\n",
    "        if word in frequency:\n",
    "            frequency[word] += 1\n",
    "        else:\n",
    "            frequency[word] = 1\n",
    "    return frequency\n",
    "words = input(\"Enter words separated by spaces: \").split()\n",
    "result = word_frequency(words)\n",
    "print(\"Word frequency:\", result)"
   ]
  },
  {
   "cell_type": "code",
   "execution_count": 8,
   "id": "8425bd5d-6bb5-46f8-a45f-f1ac5c0d914d",
   "metadata": {},
   "outputs": [
    {
     "name": "stdin",
     "output_type": "stream",
     "text": [
      "Enter elements of the first set separated by spaces:  3 5 6 3 1 4 8 \n",
      "Enter elements of the second set separated by spaces:  9 4 8 5 2 1 5\n"
     ]
    },
    {
     "name": "stdout",
     "output_type": "stream",
     "text": [
      "Common elements squared: [25, 1, 16, 64]\n"
     ]
    }
   ],
   "source": [
    "def common_elements_squared(set1, set2):\n",
    "    common = []\n",
    "    for x in set1:\n",
    "        if x in set2:\n",
    "            common.append(x * x)\n",
    "    return common\n",
    "set1 = list(map(int, input(\"Enter elements of the first set separated by spaces: \").split()))\n",
    "set2 = list(map(int, input(\"Enter elements of the second set separated by spaces: \").split()))\n",
    "result = common_elements_squared(set1, set2)\n",
    "print(\"Common elements squared:\", result)"
   ]
  },
  {
   "cell_type": "code",
   "execution_count": 1,
   "id": "35ba02b5-b8b9-4ad6-8f49-02327b2df826",
   "metadata": {
    "jupyter": {
     "is_executing": true
    }
   },
   "outputs": [
    {
     "name": "stdin",
     "output_type": "stream",
     "text": [
      "Enter the size of the square matrix (NxN):  2\n",
      " 1 2\n",
      " 3 4\n"
     ]
    },
    {
     "name": "stdout",
     "output_type": "stream",
     "text": [
      "Original Matrix:\n",
      "[1, 2]\n",
      "[3, 4]\n",
      "Rotated Matrix:\n",
      "[3, 1]\n",
      "[4, 2]\n"
     ]
    }
   ],
   "source": [
    "def rotate_matrix(matrix):\n",
    "    n = len(matrix)\n",
    "    for i in range(n):\n",
    "        for j in range(i, n):\n",
    "            matrix[i][j], matrix[j][i] = matrix[j][i], matrix[i][j]\n",
    "    for row in matrix:\n",
    "        row.reverse()\n",
    "    return matrix\n",
    "n = int(input(\"Enter the size of the square matrix (NxN): \"))\n",
    "matrix = []\n",
    "for _ in range(n):\n",
    "    matrix.append(list(map(int, input().split())))\n",
    "print(\"Original Matrix:\")\n",
    "for row in matrix:\n",
    "    print(row)\n",
    "rotated_matrix = rotate_matrix(matrix)\n",
    "print(\"Rotated Matrix:\")\n",
    "for row in rotated_matrix:\n",
    "    print(row)"
   ]
  },
  {
   "cell_type": "code",
   "execution_count": 2,
   "id": "930a8ff6-e419-4c36-8255-d38214317709",
   "metadata": {
    "jupyter": {
     "is_executing": true
    }
   },
   "outputs": [
    {
     "name": "stdin",
     "output_type": "stream",
     "text": [
      "Enter the numbers separated by spaces:  2 4 3 1 6 3 5 6 8 \n"
     ]
    },
    {
     "name": "stdout",
     "output_type": "stream",
     "text": [
      "Longest Increasing Subsequence Length: 4\n",
      "Longest Increasing Subsequence: [3, 5, 6, 8]\n"
     ]
    }
   ],
   "source": [
    "def longest_increasing_subsequence(nums):\n",
    "    max_len = 0\n",
    "    curr_len = 0\n",
    "    subsequence = []\n",
    "    temp_subseq = []\n",
    "    for i in range(len(nums)):\n",
    "        if i == 0 or nums[i] > nums[i-1]:\n",
    "            curr_len += 1\n",
    "            temp_subseq.append(nums[i])\n",
    "        else:\n",
    "            if curr_len > max_len:\n",
    "                max_len = curr_len\n",
    "                subsequence = temp_subseq[:]\n",
    "            curr_len = 1\n",
    "            temp_subseq = [nums[i]]\n",
    "    if curr_len > max_len:\n",
    "        max_len = curr_len\n",
    "        subsequence = temp_subseq[:]\n",
    "    return max_len, subsequence\n",
    "nums = list(map(int, input(\"Enter the numbers separated by spaces: \").split()))\n",
    "length, subsequence = longest_increasing_subsequence(nums)\n",
    "print(\"Longest Increasing Subsequence Length:\", length)\n",
    "print(\"Longest Increasing Subsequence:\", subsequence)"
   ]
  }
 ],
 "metadata": {
  "kernelspec": {
   "display_name": "Python 3 (ipykernel)",
   "language": "python",
   "name": "python3"
  },
  "language_info": {
   "codemirror_mode": {
    "name": "ipython",
    "version": 3
   },
   "file_extension": ".py",
   "mimetype": "text/x-python",
   "name": "python",
   "nbconvert_exporter": "python",
   "pygments_lexer": "ipython3",
   "version": "3.13.1"
  }
 },
 "nbformat": 4,
 "nbformat_minor": 5
}
