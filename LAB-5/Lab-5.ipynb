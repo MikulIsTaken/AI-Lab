{
 "cells": [
  {
   "cell_type": "code",
   "execution_count": null,
   "id": "578a4679-4a0e-4367-b20e-f4eed1796153",
   "metadata": {},
   "outputs": [
    {
     "name": "stdout",
     "output_type": "stream",
     "text": [
      "Enter the graph (node -> neighbors). Type 'done' when finished:\n"
     ]
    }
   ],
   "source": [
    "def bfs(graph, start_node, end_node):\n",
    "    solution = []\n",
    "    costs = 0\n",
    "    frontier = []\n",
    "    visited = []\n",
    "    frontier.append(start_node)\n",
    "    visited.append(start_node)\n",
    "    while frontier:\n",
    "        selected_node = frontier.pop(0)\n",
    "        if selected_node == end_node:\n",
    "            solution.append(selected_node)\n",
    "            break\n",
    "        solution.append(selected_node)\n",
    "        for neighbour in graph[selected_node]:\n",
    "            if neighbour not in visited:\n",
    "                frontier.append(neighbour)\n",
    "                visited.append(neighbour)\n",
    "        costs += 1\n",
    "    return solution, costs\n",
    "print(\"Enter the graph (node -> neighbors). Type 'done' when finished:\")\n",
    "state_space = {}\n",
    "while True:\n",
    "    line = input()\n",
    "    if line.lower() == \"done\":\n",
    "        break\n",
    "    parts = line.split()\n",
    "    node = parts[0]\n",
    "    neighbors = parts[1:] if len(parts) > 1 else []\n",
    "    state_space[node] = neighbors\n",
    "start_state = input(\"Enter the start node: \")\n",
    "goal_state = input(\"Enter the end node: \")\n",
    "solution, costs = bfs(state_space, start_state, goal_state)\n",
    "print(\"Solution: {}\".format(solution))\n",
    "print(\"Costs: {}\".format(costs))"
   ]
  }
 ],
 "metadata": {
  "kernelspec": {
   "display_name": "Python 3 (ipykernel)",
   "language": "python",
   "name": "python3"
  },
  "language_info": {
   "codemirror_mode": {
    "name": "ipython",
    "version": 3
   },
   "file_extension": ".py",
   "mimetype": "text/x-python",
   "name": "python",
   "nbconvert_exporter": "python",
   "pygments_lexer": "ipython3",
   "version": "3.13.1"
  }
 },
 "nbformat": 4,
 "nbformat_minor": 5
}
