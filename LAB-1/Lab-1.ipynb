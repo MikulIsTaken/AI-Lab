{
 "cells": [
  {
   "cell_type": "code",
   "execution_count": 1,
   "id": "2519165a-5854-486f-bf3b-5555bab89460",
   "metadata": {},
   "outputs": [
    {
     "name": "stdout",
     "output_type": "stream",
     "text": [
      "Hello World!\n"
     ]
    }
   ],
   "source": [
    "print(\"Hello World!\")"
   ]
  },
  {
   "cell_type": "code",
   "execution_count": 2,
   "id": "50b20261-bd88-429e-8293-2420d7cd3875",
   "metadata": {},
   "outputs": [
    {
     "name": "stdin",
     "output_type": "stream",
     "text": [
      "Enter your name:  Mikul Ghunawat\n",
      "Enter your age:  20\n"
     ]
    },
    {
     "name": "stdout",
     "output_type": "stream",
     "text": [
      "Name of user:  Mikul Ghunawat\n",
      "Birth year of user:  2004\n"
     ]
    }
   ],
   "source": [
    "name=input(\"Enter your name: \")\n",
    "a=int(input(\"Enter your age: \"))\n",
    "a=2024-a;\n",
    "print(\"Name of user: \",name)\n",
    "print(\"Birth year of user: \",a)"
   ]
  },
  {
   "cell_type": "code",
   "execution_count": 3,
   "id": "112f97dc-113e-4ce9-a49f-161c975f23ff",
   "metadata": {},
   "outputs": [
    {
     "name": "stdin",
     "output_type": "stream",
     "text": [
      "Enter the radius of the circle:  5.67\n"
     ]
    },
    {
     "name": "stdout",
     "output_type": "stream",
     "text": [
      "The area of the circle is: 101.0394\n"
     ]
    }
   ],
   "source": [
    "pi=22/7\n",
    "r=float(input(\"Enter the radius of the circle: \"))\n",
    "ar=pi*r*r\n",
    "print(\"The area of the circle is:\",ar)"
   ]
  }
 ],
 "metadata": {
  "kernelspec": {
   "display_name": "Python 3 (ipykernel)",
   "language": "python",
   "name": "python3"
  },
  "language_info": {
   "codemirror_mode": {
    "name": "ipython",
    "version": 3
   },
   "file_extension": ".py",
   "mimetype": "text/x-python",
   "name": "python",
   "nbconvert_exporter": "python",
   "pygments_lexer": "ipython3",
   "version": "3.12.2"
  }
 },
 "nbformat": 4,
 "nbformat_minor": 5
}
