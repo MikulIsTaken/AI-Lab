{
 "cells": [
  {
   "cell_type": "code",
   "execution_count": 1,
   "id": "initial_id",
   "metadata": {},
   "outputs": [
    {
     "name": "stdin",
     "output_type": "stream",
     "text": [
      "Enter the list elements separated by spaces:  2 4 3 8 6 2 5 3\n"
     ]
    },
    {
     "name": "stdout",
     "output_type": "stream",
     "text": [
      "List after removing duplicates: ['2', '4', '3', '8', '6', '5']\n"
     ]
    }
   ],
   "source": [
    "def remove_duplicates(lst):\n",
    "    result = []\n",
    "    for item in lst:\n",
    "        if item not in result:\n",
    "            result.append(item)\n",
    "    return result\n",
    "\n",
    "user_input = input(\"Enter the list elements separated by spaces: \")\n",
    "input_list = user_input.split()\n",
    "output_list = remove_duplicates(input_list)\n",
    "print(\"List after removing duplicates:\", output_list)"
   ]
  },
  {
   "cell_type": "code",
   "execution_count": 2,
   "id": "1655a452-dce5-4f4f-920a-a53a19b219f3",
   "metadata": {},
   "outputs": [
    {
     "name": "stdin",
     "output_type": "stream",
     "text": [
      "Enter the list elements separated by spaces:  33 77 55 44 99 11 22 66 88\n",
      "Enter the value of k (number of positions to rotate):  3\n"
     ]
    },
    {
     "name": "stdout",
     "output_type": "stream",
     "text": [
      "List after rotating to the right by 3 positions: ['22', '66', '88', '33', '77', '55', '44', '99', '11']\n"
     ]
    }
   ],
   "source": [
    "def rotate_list(lst, k):\n",
    "    n = len(lst)\n",
    "    k = k % n\n",
    "    return lst[-k:] + lst[:-k]\n",
    "\n",
    "user_input = input(\"Enter the list elements separated by spaces: \")\n",
    "input_list = user_input.split()\n",
    "k = int(input(\"Enter the value of k (number of positions to rotate): \"))\n",
    "output_list = rotate_list(input_list, k)\n",
    "print(\"List after rotating to the right by\", k, \"positions:\", output_list)"
   ]
  },
  {
   "cell_type": "code",
   "execution_count": 3,
   "id": "1b38cd58-a7c6-4352-835e-8d7accc55b8a",
   "metadata": {},
   "outputs": [
    {
     "name": "stdin",
     "output_type": "stream",
     "text": [
      "Enter the number of students:  3\n",
      "Enter student name:  Mikul\n",
      "Enter scores separated by spaces:  97 93 98\n",
      "Enter student name:  Utkarsh\n",
      "Enter scores separated by spaces:  95 95 96\n",
      "Enter student name:  Harshit\n",
      "Enter scores separated by spaces:  86 85 91\n"
     ]
    },
    {
     "name": "stdout",
     "output_type": "stream",
     "text": [
      "Average scores: {'Mikul': 96.0, 'Utkarsh': 95.33333333333333, 'Harshit': 87.33333333333333}\n"
     ]
    }
   ],
   "source": [
    "def calculate_average_scores(scores_dict):\n",
    "    average_scores = {}\n",
    "    for student, scores in scores_dict.items():\n",
    "        if scores:\n",
    "            average_scores[student] = sum(scores) / len(scores)\n",
    "        else:\n",
    "            average_scores[student] = 0\n",
    "    return average_scores\n",
    "\n",
    "n = int(input(\"Enter the number of students: \"))\n",
    "scores_dict = {}\n",
    "\n",
    "for _ in range(n):\n",
    "    student = input(\"Enter student name: \")\n",
    "    scores = input(\"Enter scores separated by spaces: \").split()\n",
    "    scores = [float(score) for score in scores]\n",
    "    scores_dict[student] = scores\n",
    "average_scores = calculate_average_scores(scores_dict)\n",
    "print(\"Average scores:\", average_scores)"
   ]
  },
  {
   "cell_type": "code",
   "execution_count": 4,
   "id": "ad5330a2-6124-4b7c-b67d-87c73ecf63bd",
   "metadata": {},
   "outputs": [
    {
     "name": "stdin",
     "output_type": "stream",
     "text": [
      "Enter a string:  IISc Bangalore\n"
     ]
    },
    {
     "name": "stdout",
     "output_type": "stream",
     "text": [
      "Character frequencies: {'I': 2, 'S': 1, 'c': 1, ' ': 1, 'B': 1, 'a': 2, 'n': 1, 'g': 1, 'l': 1, 'o': 1, 'r': 1, 'e': 1}\n"
     ]
    }
   ],
   "source": [
    "def count_char_frequency(s):\n",
    "    frequency_dict = {}\n",
    "    for char in s:\n",
    "        if char in frequency_dict:\n",
    "            frequency_dict[char] += 1\n",
    "        else:\n",
    "            frequency_dict[char] = 1\n",
    "    return frequency_dict\n",
    "\n",
    "input_string = input(\"Enter a string: \")\n",
    "frequency = count_char_frequency(input_string)\n",
    "print(\"Character frequencies:\", frequency)"
   ]
  },
  {
   "cell_type": "code",
   "execution_count": 5,
   "id": "5c786ea8-6df9-4676-b05b-7b657c80ba60",
   "metadata": {},
   "outputs": [
    {
     "name": "stdin",
     "output_type": "stream",
     "text": [
      "Enter a string:  abcab\n"
     ]
    },
    {
     "name": "stdout",
     "output_type": "stream",
     "text": [
      "First non-repeating character: c\n"
     ]
    }
   ],
   "source": [
    "def first_non_repeating_char(s):\n",
    "    frequency_dict = {}\n",
    "    for char in s:\n",
    "        if char in frequency_dict:\n",
    "            frequency_dict[char] += 1\n",
    "        else:\n",
    "            frequency_dict[char] = 1\n",
    "    for char in s:\n",
    "        if frequency_dict[char] == 1:\n",
    "            return char\n",
    "    return \"None\"\n",
    "\n",
    "input_string = input(\"Enter a string: \")\n",
    "result = first_non_repeating_char(input_string)\n",
    "print(\"First non-repeating character:\", result)"
   ]
  },
  {
   "cell_type": "code",
   "execution_count": 9,
   "id": "2f6e0599-76bf-41ca-969d-b826d6017839",
   "metadata": {},
   "outputs": [
    {
     "name": "stdin",
     "output_type": "stream",
     "text": [
      "Enter the number of employees:  5\n",
      "Enter employee name:  Fernandes\n",
      "Enter salary for Fernandes:  250000\n",
      "Enter employee name:  Mainoo\n",
      "Enter salary for Mainoo:  150000\n",
      "Enter employee name:  Hojlund\n",
      "Enter salary for Hojlund:  135000\n",
      "Enter employee name:  Diallo\n",
      "Enter salary for Diallo:  95000\n",
      "Enter employee name:  Martinez\n",
      "Enter salary for Martinez:  135000\n"
     ]
    },
    {
     "name": "stdout",
     "output_type": "stream",
     "text": [
      "Top 3 employees with the highest salaries:\n",
      "Fernandes: 250000.0\n",
      "Mainoo: 150000.0\n",
      "Hojlund: 135000.0\n"
     ]
    }
   ],
   "source": [
    "def top_3_employees_by_salary(salary_dict):\n",
    "    sorted_employees = sorted(salary_dict.items(), key=lambda x: (-x[1], x[0]))\n",
    "    top_3 = sorted_employees[:3]\n",
    "    return top_3\n",
    "\n",
    "n = int(input(\"Enter the number of employees: \"))\n",
    "salary_dict = {}\n",
    "\n",
    "for _ in range(n):\n",
    "    employee = input(\"Enter employee name: \")\n",
    "    salary = float(input(f\"Enter salary for {employee}: \"))\n",
    "    salary_dict[employee] = salary\n",
    "\n",
    "top_3_employees = top_3_employees_by_salary(salary_dict)\n",
    "print(\"Top 3 employees with the highest salaries:\")\n",
    "for employee, salary in top_3_employees:\n",
    "    print(f\"{employee}: {salary}\")\n"
   ]
  },
  {
   "cell_type": "code",
   "execution_count": 10,
   "id": "a3405af4-fa4b-4470-a60b-6dc317626656",
   "metadata": {},
   "outputs": [
    {
     "name": "stdin",
     "output_type": "stream",
     "text": [
      "Enter a string:  someoneyoudontknowof\n"
     ]
    },
    {
     "name": "stdout",
     "output_type": "stream",
     "text": [
      "Longest substring with all unique characters: neyoud\n",
      "Length of the substring: 6\n"
     ]
    }
   ],
   "source": [
    "def longest_unique_substring(s):\n",
    "    start = 0\n",
    "    max_len = 0\n",
    "    max_substr = \"\"\n",
    "    char_map = {}\n",
    "\n",
    "    for end in range(len(s)):\n",
    "        char = s[end]\n",
    "\n",
    "        if char in char_map and char_map[char] >= start:\n",
    "            start = char_map[char] + 1\n",
    "\n",
    "        char_map[char] = end\n",
    "\n",
    "        if end - start + 1 > max_len:\n",
    "            max_len = end - start + 1\n",
    "            max_substr = s[start:end + 1]\n",
    "\n",
    "    return max_substr, max_len\n",
    "\n",
    "input_string = input(\"Enter a string: \")\n",
    "\n",
    "substring, length = longest_unique_substring(input_string)\n",
    "print(\"Longest substring with all unique characters:\", substring)\n",
    "print(\"Length of the substring:\", length)"
   ]
  }
 ],
 "metadata": {
  "kernelspec": {
   "display_name": "Python 3 (ipykernel)",
   "language": "python",
   "name": "python3"
  },
  "language_info": {
   "codemirror_mode": {
    "name": "ipython",
    "version": 3
   },
   "file_extension": ".py",
   "mimetype": "text/x-python",
   "name": "python",
   "nbconvert_exporter": "python",
   "pygments_lexer": "ipython3",
   "version": "3.13.1"
  }
 },
 "nbformat": 4,
 "nbformat_minor": 5
}
